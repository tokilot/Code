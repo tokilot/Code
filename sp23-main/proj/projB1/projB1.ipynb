{
 "metadata": {
  "otter": {
   "OK_FORMAT": true,
   "tests": {
    "q2": {
     "name": "q2",
     "points": 3,
     "suites": [
      {
       "cases": [
        {
         "code": ">>> np.allclose(words_in_texts(['hello', 'bye', 'world'], \n...                            pd.Series(['hello', 'hello worldhello'])),\n...             np.array([[1, 0, 0], \n...                       [1, 0, 1]]))\nTrue",
         "hidden": false,
         "locked": false
        },
        {
         "code": ">>> np.allclose(words_in_texts(['a', 'b', 'c', 'd', 'e', 'f', 'g'], \n...                            pd.Series(['a b c d ef g', 'a', 'b', 'c', 'd e f g', 'h', 'a h'])),\n...             np.array([[1,1,1,1,1,1,1], \n...                       [1,0,0,0,0,0,0],\n...                       [0,1,0,0,0,0,0],\n...                       [0,0,1,0,0,0,0],\n...                       [0,0,0,1,1,1,1],\n...                       [0,0,0,0,0,0,0],\n...                       [1,0,0,0,0,0,0]]))\nTrue",
         "hidden": false,
         "locked": false
        }
       ],
       "scored": true,
       "setup": "",
       "teardown": "",
       "type": "doctest"
      }
     ]
    },
    "q4": {
     "name": "q4",
     "points": 2,
     "suites": [
      {
       "cases": [
        {
         "code": ">>> X_train.shape == (7513, 5)\nTrue",
         "hidden": false,
         "locked": false
        },
        {
         "code": ">>> # X matrix should consist of only 0 or 1\n>>> np.array_equal(np.unique(X_train), np.array([0, 1]))\nTrue",
         "hidden": false,
         "locked": false
        },
        {
         "code": ">>> # y vector should consist of only 0 or 1\n>>> np.array_equal(np.unique(Y_train), np.array([0, 1]))\nTrue",
         "hidden": false,
         "locked": false
        }
       ],
       "scored": true,
       "setup": "",
       "teardown": "",
       "type": "doctest"
      }
     ]
    },
    "q5": {
     "name": "q5",
     "points": 2,
     "suites": [
      {
       "cases": [
        {
         "code": ">>> training_accuracy > 0.75\nTrue",
         "hidden": false,
         "locked": false
        }
       ],
       "scored": true,
       "setup": "",
       "teardown": "",
       "type": "doctest"
      }
     ]
    },
    "q6a": {
     "name": "q6a",
     "points": 1,
     "suites": [
      {
       "cases": [
        {
         "code": ">>> zero_predictor_fp >= 0\nTrue",
         "hidden": false,
         "locked": false
        },
        {
         "code": ">>> zero_predictor_fn >= 0\nTrue",
         "hidden": false,
         "locked": false
        }
       ],
       "scored": true,
       "setup": "",
       "teardown": "",
       "type": "doctest"
      }
     ]
    },
    "q6b": {
     "name": "q6b",
     "points": 1,
     "suites": [
      {
       "cases": [
        {
         "code": ">>> zero_predictor_acc >= 0\nTrue",
         "hidden": false,
         "locked": false
        },
        {
         "code": ">>> zero_predictor_recall >= 0\nTrue",
         "hidden": false,
         "locked": false
        }
       ],
       "scored": true,
       "setup": "",
       "teardown": "",
       "type": "doctest"
      }
     ]
    },
    "q6d": {
     "name": "q6d",
     "points": 2,
     "suites": [
      {
       "cases": [
        {
         "code": ">>> logistic_predictor_precision >= 0\nTrue",
         "hidden": false,
         "locked": false
        },
        {
         "code": ">>> logistic_predictor_recall >= 0\nTrue",
         "hidden": false,
         "locked": false
        },
        {
         "code": ">>> logistic_predictor_fpr >= 0\nTrue",
         "hidden": false,
         "locked": false
        }
       ],
       "scored": true,
       "setup": "",
       "teardown": "",
       "type": "doctest"
      }
     ]
    }
   }
  },
  "kernelspec": {
   "name": "python3",
   "language": "python",
   "display_name": "Python 3 (ipykernel)"
  },
  "language_info": {
   "codemirror_mode": {
    "name": "python",
    "version": 3
   },
   "file_extension": ".py",
   "mimetype": "text/x-python",
   "name": "python",
   "nbconvert_exporter": "python",
   "pygments_lexer": "ipython3",
   "version": "3.8"
  }
 },
 "nbformat_minor": 4,
 "nbformat": 4,
 "cells": [
  {
   "cell_type": "code",
   "source": [
    "# Initialize Otter\n",
    "import otter\n",
    "grader = otter.Notebook(\"projB1.ipynb\")"
   ],
   "metadata": {
    "deletable": false,
    "editable": false,
    "trusted": true
   },
   "execution_count": null,
   "outputs": []
  },
  {
   "cell_type": "markdown",
   "source": [
    "# Project B.1: Spam/Ham Classification\n",
    "\n",
    "## Due Date: Thursday, April 20th, 11:59PM PDT\n",
    "You must submit this assignment to Gradescope by the on-time deadline, Thursday, April 20th, 11:59 PM. \n",
    "Please read the syllabus for the grace period policy. \n",
    "No late submissions beyond the grace period will be accepted. While course staff is happy to help you if you encounter difficulties with submission, we may not be able to respond to last-minute requests for assistance (TAs need to sleep, after all!). \n",
    "**We strongly encourage you to plan to submit your work to Gradescope several hours before the stated deadline.** \n",
    "This way, you will have ample time to reach out to staff for submission support.\n",
    "\n",
    "### Collaboration Policy\n",
    "\n",
    "Data science is a collaborative activity. \n",
    "While you may talk with others about this project, we ask that you **write your solutions individually**. \n",
    "If you do discuss the assignments with others please **include their names** in the collaborators cell below."
   ],
   "metadata": {}
  },
  {
   "cell_type": "markdown",
   "source": [
    "**Collaborators**: *list collaborators here*"
   ],
   "metadata": {}
  },
  {
   "cell_type": "markdown",
   "source": [
    "## Introduction\n",
    "You will use what you've learned in class to create a binary classifier that can distinguish spam (junk or commercial or bulk) emails from ham (non-spam) emails. In addition to providing some skeleton code to fill in, we will evaluate your work based on your model's accuracy and your written responses in this notebook.\n",
    "\n",
    "After this project, you should feel comfortable with the following:\n",
    "\n",
    "- Feature engineering with text data,\n",
    "- Using `sklearn` library to process data and fit models, and\n",
    "- Validating the performance of your model and minimizing overfitting.\n",
    "\n",
    "This first part of the project focuses on initial analysis as well as Feature Engineering and Logistic Regression. In the second part of this project (to be released next week),  you will build your own spam/ham classifier.\n",
    "\n",
    "## Content Warning\n",
    "This is a **real world** dataset – the emails you are trying to classify are actual spam and legitimate emails. As a result, some of the spam emails may be in poor taste or be considered inappropriate. We think the benefit of working with realistic data outweighs these innapropriate emails, and wanted to give a warning at the beginning of the project so that you are made aware.\n",
    "\n",
    "If you feel uncomfortable with this topic, **please contact your GSI or the instructors, or reach out via the Spring 2023 extenuating circumstances form.**"
   ],
   "metadata": {
    "nbgrader": {
     "grade": false,
     "grade_id": "proj2",
     "locked": true,
     "schema_version": 2,
     "solution": false
    }
   }
  },
  {
   "cell_type": "code",
   "source": [
    "# Run this cell to suppress all FutureWarnings.\n",
    "import warnings\n",
    "warnings.filterwarnings(\"ignore\", category=FutureWarning)\n",
    "\n",
    "# More readable exceptions.\n",
    "%pip install --quiet iwut\n",
    "%pip install seaborn\n",
    "%load_ext iwut\n",
    "%wut on"
   ],
   "metadata": {
    "trusted": true,
    "ExecuteTime": {
     "end_time": "2023-06-08T13:09:52.532500500Z",
     "start_time": "2023-06-08T13:09:47.970639500Z"
    }
   },
   "execution_count": 1,
   "outputs": [
    {
     "name": "stdout",
     "output_type": "stream",
     "text": [
      "Note: you may need to restart the kernel to use updated packages.\n",
      "Requirement already satisfied: seaborn in e:\\software\\python38\\lib\\site-packages (0.12.2)\n",
      "Requirement already satisfied: numpy!=1.24.0,>=1.17 in e:\\software\\python38\\lib\\site-packages (from seaborn) (1.24.3)\n",
      "Requirement already satisfied: pandas>=0.25 in e:\\software\\python38\\lib\\site-packages (from seaborn) (2.0.1)\n",
      "Requirement already satisfied: matplotlib!=3.6.1,>=3.1 in e:\\software\\python38\\lib\\site-packages (from seaborn) (3.7.1)\n",
      "Requirement already satisfied: contourpy>=1.0.1 in e:\\software\\python38\\lib\\site-packages (from matplotlib!=3.6.1,>=3.1->seaborn) (1.0.7)\n",
      "Requirement already satisfied: cycler>=0.10 in e:\\software\\python38\\lib\\site-packages (from matplotlib!=3.6.1,>=3.1->seaborn) (0.11.0)\n",
      "Requirement already satisfied: fonttools>=4.22.0 in e:\\software\\python38\\lib\\site-packages (from matplotlib!=3.6.1,>=3.1->seaborn) (4.39.4)\n",
      "Requirement already satisfied: kiwisolver>=1.0.1 in e:\\software\\python38\\lib\\site-packages (from matplotlib!=3.6.1,>=3.1->seaborn) (1.4.4)\n",
      "Requirement already satisfied: packaging>=20.0 in e:\\software\\python38\\lib\\site-packages (from matplotlib!=3.6.1,>=3.1->seaborn) (23.1)\n",
      "Requirement already satisfied: pillow>=6.2.0 in e:\\software\\python38\\lib\\site-packages (from matplotlib!=3.6.1,>=3.1->seaborn) (9.5.0)\n",
      "Requirement already satisfied: pyparsing>=2.3.1 in e:\\software\\python38\\lib\\site-packages (from matplotlib!=3.6.1,>=3.1->seaborn) (3.0.9)\n",
      "Requirement already satisfied: python-dateutil>=2.7 in e:\\software\\python38\\lib\\site-packages (from matplotlib!=3.6.1,>=3.1->seaborn) (2.8.2)\n",
      "Requirement already satisfied: importlib-resources>=3.2.0 in e:\\software\\python38\\lib\\site-packages (from matplotlib!=3.6.1,>=3.1->seaborn) (5.12.0)\n",
      "Requirement already satisfied: pytz>=2020.1 in e:\\software\\python38\\lib\\site-packages (from pandas>=0.25->seaborn) (2023.3)\n",
      "Requirement already satisfied: tzdata>=2022.1 in e:\\software\\python38\\lib\\site-packages (from pandas>=0.25->seaborn) (2023.3)\n",
      "Requirement already satisfied: zipp>=3.1.0 in e:\\software\\python38\\lib\\site-packages (from importlib-resources>=3.2.0->matplotlib!=3.6.1,>=3.1->seaborn) (3.15.0)\n",
      "Requirement already satisfied: six>=1.5 in e:\\software\\python38\\lib\\site-packages (from python-dateutil>=2.7->matplotlib!=3.6.1,>=3.1->seaborn) (1.16.0)\n",
      "Note: you may need to restart the kernel to use updated packages.\n"
     ]
    }
   ]
  },
  {
   "cell_type": "markdown",
   "source": [
    "## Grading\n",
    "Grading is broken down into autograded answers and free response. \n",
    "\n",
    "For autograded answers, the results of your code are compared to provided and/or hidden tests.\n",
    "\n",
    "For free response, readers will evaluate how well you answered the question and/or fulfilled the requirements of the question.\n",
    "\n",
    "Question | Manual | Points\n",
    "----|----|----\n",
    "1 | Yes | 2\n",
    "2 | No | 3\n",
    "3 | Yes | 3\n",
    "4 | No | 2\n",
    "5 | No | 2\n",
    "6a | No | 1\n",
    "6b | No | 1\n",
    "6c | Yes | 2\n",
    "6d | No | 2\n",
    "6e | Yes | 1\n",
    "6f | Yes | 1\n",
    "6g | Yes | 1\n",
    "6h | Yes | 1\n",
    "Total | 7 | 22"
   ],
   "metadata": {}
  },
  {
   "cell_type": "code",
   "source": [
    "import os\n",
    "import numpy as np\n",
    "import pandas as pd\n",
    "\n",
    "import matplotlib.pyplot as plt\n",
    "%matplotlib inline\n",
    "\n",
    "import seaborn as sns\n",
    "sns.set(style = \"whitegrid\", \n",
    "        color_codes = True,\n",
    "        font_scale = 1.5)"
   ],
   "metadata": {
    "nbgrader": {
     "grade": false,
     "grade_id": "imports",
     "locked": true,
     "schema_version": 2,
     "solution": false
    },
    "tags": [],
    "trusted": true,
    "ExecuteTime": {
     "end_time": "2023-06-08T13:10:05.591322500Z",
     "start_time": "2023-06-08T13:10:05.545219Z"
    }
   },
   "execution_count": 2,
   "outputs": []
  },
  {
   "cell_type": "markdown",
   "source": [
    "<br/><br/>\n",
    "<hr style=\"border: 5px solid #003262;\" />\n",
    "<hr style=\"border: 1px solid #fdb515;\" />\n",
    "\n",
    "# The Data\n",
    "\n",
    "In email classification, our goal is to classify emails as spam or not spam (referred to as \"ham\") using features generated from the text in the email. \n",
    "\n",
    "The dataset is from [SpamAssassin](https://spamassassin.apache.org/old/publiccorpus/). It consists of email messages and their labels (0 for ham, 1 for spam). Your labeled training dataset contains 8,348 labeled examples, and the unlabeled test set contains 1,000 unlabeled examples.\n",
    "\n",
    "**Note:** The dataset is from 2004, so the contents of emails might be very different from those in 2023.\n",
    "\n",
    "Run the following cells to load the data into a `DataFrame`.\n",
    "\n",
    "The `train` DataFrame contains labeled data that you will use to train your model. It contains four columns:\n",
    "\n",
    "1. `id`: An identifier for the training example.\n",
    "1. `subject`: The subject of the email.\n",
    "1. `email`: The text of the email.\n",
    "1. `spam`: 1 if the email is spam, 0 if the email is ham (not spam).\n",
    "\n",
    "The `test` DataFrame contains 1,000 unlabeled emails. You will predict labels for these emails and submit your predictions to the autograder for evaluation."
   ],
   "metadata": {
    "nbgrader": {
     "grade": false,
     "grade_id": "loading",
     "locked": true,
     "schema_version": 2,
     "solution": false
    }
   }
  },
  {
   "cell_type": "code",
   "source": [
    "import zipfile\n",
    "\n",
    "dir = os.getcwd()\n",
    "with zipfile.ZipFile(\"spam_ham_data.zip\") as item:\n",
    "    item.extractall()"
   ],
   "metadata": {
    "trusted": true,
    "ExecuteTime": {
     "end_time": "2023-06-08T13:10:48.930337800Z",
     "start_time": "2023-06-08T13:10:48.668555Z"
    }
   },
   "execution_count": 4,
   "outputs": []
  },
  {
   "cell_type": "code",
   "source": [
    "# Loading training and test datasets\n",
    "original_training_data = pd.read_csv('train.csv')\n",
    "test = pd.read_csv('test.csv')\n",
    "\n",
    "# Convert the emails to lowercase as the first step of text processing.\n",
    "original_training_data['email'] = original_training_data['email'].str.lower()\n",
    "test['email'] = test['email'].str.lower()\n",
    "\n",
    "original_training_data.head()"
   ],
   "metadata": {
    "trusted": true,
    "ExecuteTime": {
     "end_time": "2023-06-08T13:17:33.867521400Z",
     "start_time": "2023-06-08T13:17:33.477301500Z"
    }
   },
   "execution_count": 16,
   "outputs": [
    {
     "data": {
      "text/plain": "   id                                            subject   \n0   0  Subject: A&L Daily to be auctioned in bankrupt...  \\\n1   1  Subject: Wired: \"Stronger ties between ISPs an...   \n2   2  Subject: It's just too small                  ...   \n3   3                      Subject: liberal defnitions\\n   \n4   4  Subject: RE: [ILUG] Newbie seeks advice - Suse...   \n\n                                               email  spam  \n0  url: http://boingboing.net/#85534171\\n date: n...     0  \n1  url: http://scriptingnews.userland.com/backiss...     0  \n2  <html>\\n <head>\\n </head>\\n <body>\\n <font siz...     1  \n3  depends on how much over spending vs. how much...     0  \n4  hehe sorry but if you hit caps lock twice the ...     0  ",
      "text/html": "<div>\n<style scoped>\n    .dataframe tbody tr th:only-of-type {\n        vertical-align: middle;\n    }\n\n    .dataframe tbody tr th {\n        vertical-align: top;\n    }\n\n    .dataframe thead th {\n        text-align: right;\n    }\n</style>\n<table border=\"1\" class=\"dataframe\">\n  <thead>\n    <tr style=\"text-align: right;\">\n      <th></th>\n      <th>id</th>\n      <th>subject</th>\n      <th>email</th>\n      <th>spam</th>\n    </tr>\n  </thead>\n  <tbody>\n    <tr>\n      <th>0</th>\n      <td>0</td>\n      <td>Subject: A&amp;L Daily to be auctioned in bankrupt...</td>\n      <td>url: http://boingboing.net/#85534171\\n date: n...</td>\n      <td>0</td>\n    </tr>\n    <tr>\n      <th>1</th>\n      <td>1</td>\n      <td>Subject: Wired: \"Stronger ties between ISPs an...</td>\n      <td>url: http://scriptingnews.userland.com/backiss...</td>\n      <td>0</td>\n    </tr>\n    <tr>\n      <th>2</th>\n      <td>2</td>\n      <td>Subject: It's just too small                  ...</td>\n      <td>&lt;html&gt;\\n &lt;head&gt;\\n &lt;/head&gt;\\n &lt;body&gt;\\n &lt;font siz...</td>\n      <td>1</td>\n    </tr>\n    <tr>\n      <th>3</th>\n      <td>3</td>\n      <td>Subject: liberal defnitions\\n</td>\n      <td>depends on how much over spending vs. how much...</td>\n      <td>0</td>\n    </tr>\n    <tr>\n      <th>4</th>\n      <td>4</td>\n      <td>Subject: RE: [ILUG] Newbie seeks advice - Suse...</td>\n      <td>hehe sorry but if you hit caps lock twice the ...</td>\n      <td>0</td>\n    </tr>\n  </tbody>\n</table>\n</div>"
     },
     "execution_count": 16,
     "metadata": {},
     "output_type": "execute_result"
    }
   ]
  },
  {
   "cell_type": "markdown",
   "source": [
    "First, let's check if our data contains any missing values. We have filled in the cell below to print the number of `NaN` values in each column. If there are `NaN` values, we replace them with appropriate filler values (i.e., `NaN` values in the `subject` or `email` columns will be replaced with empty strings). Finally, we print the number of `NaN` values in each column after this modification to verify that there are no `NaN` values left.\n",
    "\n",
    "**Note:** While there are no `NaN` values in the `spam` column, we should be careful when replacing `NaN` labels. Doing so without consideration may introduce significant bias into our model."
   ],
   "metadata": {
    "nbgrader": {
     "grade": false,
     "grade_id": "cell-34476156ed73b800",
     "locked": true,
     "schema_version": 2,
     "solution": false
    }
   }
  },
  {
   "cell_type": "code",
   "source": [
    "print('Before imputation:')\n",
    "print(original_training_data.isnull().sum())\n",
    "original_training_data = original_training_data.fillna('')\n",
    "print('------------')\n",
    "print('After imputation:')\n",
    "print(original_training_data.isnull().sum())"
   ],
   "metadata": {
    "nbgrader": {
     "grade": false,
     "grade_id": "cell-b1fb39d9b651ca1b",
     "locked": false,
     "schema_version": 2,
     "solution": true
    },
    "trusted": true,
    "ExecuteTime": {
     "end_time": "2023-06-08T13:17:34.924044300Z",
     "start_time": "2023-06-08T13:17:34.906385900Z"
    }
   },
   "execution_count": 17,
   "outputs": [
    {
     "name": "stdout",
     "output_type": "stream",
     "text": [
      "Before imputation:\n",
      "id         0\n",
      "subject    6\n",
      "email      0\n",
      "spam       0\n",
      "dtype: int64\n",
      "------------\n",
      "After imputation:\n",
      "id         0\n",
      "subject    0\n",
      "email      0\n",
      "spam       0\n",
      "dtype: int64\n"
     ]
    }
   ]
  },
  {
   "cell_type": "markdown",
   "source": [
    "<br/><br/>\n",
    "<hr style=\"border: 1px solid #fdb515;\" />\n",
    "\n",
    "# Part 1: Initial Analysis\n",
    "\n",
    "In the cell below, we have printed the text of the `email` field for the first ham and the first spam email in the original training set."
   ],
   "metadata": {
    "nbgrader": {
     "grade": false,
     "grade_id": "q1",
     "locked": true,
     "schema_version": 2,
     "solution": false
    }
   }
  },
  {
   "cell_type": "code",
   "source": [
    "first_ham = original_training_data.loc[original_training_data['spam'] == 0, 'email'].iloc[0]\n",
    "first_spam = original_training_data.loc[original_training_data['spam'] == 1, 'email'].iloc[0]\n",
    "print(first_ham)\n",
    "print(first_spam)"
   ],
   "metadata": {
    "nbgrader": {
     "grade": false,
     "grade_id": "q1-answer",
     "locked": false,
     "schema_version": 2,
     "solution": true
    },
    "trusted": true,
    "ExecuteTime": {
     "end_time": "2023-06-08T13:17:36.504404300Z",
     "start_time": "2023-06-08T13:17:36.425573300Z"
    }
   },
   "execution_count": 18,
   "outputs": [
    {
     "name": "stdout",
     "output_type": "stream",
     "text": [
      "url: http://boingboing.net/#85534171\n",
      " date: not supplied\n",
      " \n",
      " arts and letters daily, a wonderful and dense blog, has folded up its tent due \n",
      " to the bankruptcy of its parent company. a&l daily will be auctioned off by the \n",
      " receivers. link[1] discuss[2] (_thanks, misha!_)\n",
      " \n",
      " [1] http://www.aldaily.com/\n",
      " [2] http://www.quicktopic.com/boing/h/zlfterjnd6jf\n",
      " \n",
      " \n",
      "\n",
      "<html>\n",
      " <head>\n",
      " </head>\n",
      " <body>\n",
      " <font size=3d\"4\"><b> a man endowed with a 7-8\" hammer is simply<br>\n",
      "  better equipped than a man with a 5-6\"hammer. <br>\n",
      " <br>would you rather have<br>more than enough to get the job done or fall =\n",
      " short. it's totally up<br>to you. our methods are guaranteed to increase y=\n",
      " our size by 1-3\"<br> <a href=3d\"http://209.163.187.47/cgi-bin/index.php?10=\n",
      " 004\">come in here and see how</a>\n",
      " </body>\n",
      " </html>\n",
      " \n",
      " \n",
      " \n",
      "\n"
     ]
    }
   ]
  },
  {
   "cell_type": "markdown",
   "source": [
    "<!-- BEGIN QUESTION -->\n",
    "\n",
    "<br><br>\n",
    "\n",
    "---\n",
    "\n",
    "## Question 1\n",
    "\n",
    "Discuss one attribute or characteristic you notice that is different between the two emails that might relate to the identification of a spam email."
   ],
   "metadata": {}
  },
  {
   "cell_type": "markdown",
   "source": [
    "_Type your answer here, replacing this text._"
   ],
   "metadata": {}
  },
  {
   "cell_type": "markdown",
   "source": [
    "<!-- END QUESTION -->\n",
    "\n",
    "## Training-Validation Split\n",
    "The training data we downloaded is all the data we have available for both training models and **validating** the models that we train.  We therefore need to split the training data into separate training and validation datsets.  You will need this **validation data** to assess the performance of your classifier once you are finished training. Note that we set the seed (`random_state`) to 42. This will produce a pseudo-random sequence of random numbers that is the same for every student. **Do not modify this random seed in the following questions, as our tests depend on it.**"
   ],
   "metadata": {
    "nbgrader": {
     "grade": false,
     "grade_id": "cell-78513403ef52a957",
     "locked": true,
     "schema_version": 2,
     "solution": false
    }
   }
  },
  {
   "cell_type": "code",
   "source": [
    "# This creates a 90/10 train-validation split on our labeled data.\n",
    "\n",
    "from sklearn.model_selection import train_test_split\n",
    "\n",
    "train, val = train_test_split(original_training_data, test_size = 0.1, random_state = 42)"
   ],
   "metadata": {
    "nbgrader": {
     "grade": false,
     "grade_id": "cell-873194ed3e686dfb",
     "locked": true,
     "schema_version": 2,
     "solution": false
    },
    "trusted": true,
    "ExecuteTime": {
     "end_time": "2023-06-08T13:17:46.279143400Z",
     "start_time": "2023-06-08T13:17:46.220611100Z"
    }
   },
   "execution_count": 19,
   "outputs": []
  },
  {
   "cell_type": "markdown",
   "source": [
    "<br/><br/>\n",
    "<hr style=\"border: 1px solid #fdb515;\" />\n",
    "\n",
    "# Part 2: Basic Feature Engineering\n",
    "\n",
    "We would like to take the text of an email and predict whether the email is ham or spam. This is a **binary classification** problem, so we can use logistic regression to train a classifier. Recall that to train a logistic regression model we need a numeric feature matrix $\\mathbb{X}$ and a vector of corresponding binary labels $Y$. Unfortunately, our data are text, not numbers. To address this, we can create numeric features derived from the email text and use those features for logistic regression.\n",
    "\n",
    "Each row of $\\mathbb{X}$ is an email. Each column of $\\mathbb{X}$ contains one feature for all the emails. We'll guide you through creating a simple feature, and you'll create more interesting ones as you try to increase the accuracy of your model."
   ],
   "metadata": {
    "nbgrader": {
     "grade": false,
     "grade_id": "feat-eng",
     "locked": true,
     "schema_version": 2,
     "solution": false
    }
   }
  },
  {
   "cell_type": "markdown",
   "source": [
    "<br><br>\n",
    "\n",
    "---\n",
    "\n",
    "## Question 2\n",
    "\n",
    "Create a function called `words_in_texts` that takes in a list of `words` and a pandas `Series` of email `texts`. It should output a 2-dimensional `NumPy` array containing one row for each email text. The row contains 0 or 1 values associate with each word in the `words` list. If j-th word in the `words` exists in the i-th input of the email `texts` Series, the output element at index (i, j) will be 1, otherwise it will be 0. For example:\n",
    "\n",
    "```\n",
    ">>> words_in_texts(['hello', 'bye', 'world'], \n",
    "                   pd.Series(['hello', 'hello worldhello']))\n",
    "\n",
    "array([[1, 0, 0],\n",
    "       [1, 0, 1]])\n",
    "```\n",
    "\n",
    "*The provided tests make sure that your function works correctly, so that you can use it for future questions.*\n"
   ],
   "metadata": {}
  },
  {
   "cell_type": "code",
   "source": [
    "def words_in_texts(words, texts):\n",
    "    \"\"\"\n",
    "    Args:\n",
    "        words (list): words to find\n",
    "        texts (Series): strings to search in\n",
    "    \n",
    "    Returns:\n",
    "        A 2D NumPy array of 0s and 1s with shape (n, p) where \n",
    "        n is the number of texts and p is the number of words.\n",
    "    \"\"\"\n",
    "    indicator_array = 1 * np.array([texts.str.contains(word) for word in words]).T\n",
    "    return indicator_array"
   ],
   "metadata": {
    "nbgrader": {
     "grade": false,
     "grade_id": "q2-answer",
     "locked": false,
     "schema_version": 2,
     "solution": true
    },
    "tags": [
     "student"
    ],
    "trusted": true,
    "ExecuteTime": {
     "end_time": "2023-06-08T13:17:47.129861Z",
     "start_time": "2023-06-08T13:17:47.113943900Z"
    }
   },
   "execution_count": 20,
   "outputs": []
  },
  {
   "cell_type": "code",
   "source": [
    "grader.check(\"q2\")"
   ],
   "metadata": {
    "deletable": false,
    "editable": false,
    "trusted": true,
    "ExecuteTime": {
     "end_time": "2023-06-08T13:17:47.382664100Z",
     "start_time": "2023-06-08T13:17:47.330006100Z"
    }
   },
   "execution_count": 21,
   "outputs": [
    {
     "data": {
      "text/plain": "<IPython.core.display.HTML object>",
      "text/html": "\n<style>\n.output_subarea { /* HACK to make tooltips at edge show */\n    overflow-x: visible\n}\n.ellipsis {\n    background-color:#eee;\n    color:#666;\n    border-radius:2px;\n    cursor:pointer;\n    padding: 0 5px;\n}\n.ellipsis:hover {\n    background-color:#e3e3e3;\n    color:#000;\n}\n.output_area pre.code-block, .jp-OutputArea pre.code-block {\n    padding:0.5em 0 0.5em 1em;\n    margin:0 0 0.25em 0;\n    border-radius:0.35em;\n    overflow:visible;\n    color:#999;\n    background-color:#f6f6f6;\n}\n.variable {\n    position:relative;\n    cursor:pointer;\n    border-bottom:1px solid #666;\n}\n.variable:before {\n  content: attr(data-tooltip); /* here's the magic */\n  position:absolute;\n  \n  /* horizontally center */\n  left:50%;\n  transform: translateX(-50%);\n  \n  /* move to top */\n  bottom: 100%;\n  margin-bottom: 5px; /* and add a small bottom margin */\n  \n  /* basic styles */\n  padding: 7px 10px;\n  border-radius:2px;\n  background:#000;\n  color: #fff;\n  text-align:center;\n  \n  width: max-content; \n  max-width: 200px;\n\n  display:none; /* hide by default */\n}\n.variable:hover:before {\n  display:block;\n}\n.variable:after {\n  content: \"\";\n  position:absolute;\n  \n  /* position tooltip correctly */\n  transform: translateX(-50%);\n  left:50%;\n \n  /* move to bottom */\n  bottom:100%;\n  margin-bottom:-10px;\n \n  /* the arrow */\n  border:10px solid #000;\n  border-color: black transparent transparent transparent;\n  \n  display:none;\n}\n.variable:hover {\n    color:#208FFB;\n    border-bottom:1px solid #208FFB;\n}\n.variable:hover:before, .variable:hover:after {\n  display:block;\n}\n.line {\n    padding:0;\n}\n.output_area .line.highlight, .jp-OutputArea-output .line.highlight {\n    color:#000;\n}\n.output_area pre.meta, .jp-OutputArea-output pre.meta {\n    padding:5px;\n    border-radius:2px;\n    margin:5px 0;\n}\n.output_area pre.meta:first-child, .jp-OutputArea-output pre.meta:first-child {\n    padding-top:0;\n    margin-top:0;\n}\n.lineno {\n    border-right:1px solid #999;\n    padding-right:5px;\n    color:#999;\n}\n.highlight .lineno {\n    color:#000;\n    border-right:1px solid #000;\n}\n.error-container {\n    padding:0.5em 1em;\n    border-left:3px solid #eee;\n}\n.error-container summary {\n    list-style: none;\n    margin-top:0.5em;\n}\n.output_area .error-summary, .jp-OutputArea-output .error-summary {\n    margin-top:1em;\n}\n</style>\n<div class='error-container'>\n<details><summary><span class=\"ellipsis\">&middot;&middot;&middot;</span></summary>\n<pre class='meta'><b><span style='color:#60C6C8'>run_code</span></b> in <span style='color:#00A250'>e:\\software\\python38\\lib\\site-packages\\IPython\\core\\interactiveshell.py</span></pre>\n<pre class='code-block'>\n<span class='line'>  <span class='lineno'>3524</span>              if <span class=\"variable\" data-tooltip=\"&lt;ExecutionResult object at 1d94d86f820, execution_count=21 error_before_exec=None error_in_exec=name &#x27;grader&#x27; is not defined info=&lt;ExecutionInfo object at 1d90c79c2e0, raw_cell=&quot;grader.check(&quot;q2&quot;)\n&quot; store_history=True silent=False shell_futures=True cell_id=None&gt; result=None&gt;\">result</span> is not None:</span>\n<span class='line'>  <span class='lineno'>3525</span>                  <span class=\"variable\" data-tooltip=\"&lt;ExecutionResult object at 1d94d86f820, execution_count=21 error_before_exec=None error_in_exec=name &#x27;grader&#x27; is not defined info=&lt;ExecutionInfo object at 1d90c79c2e0, raw_cell=&quot;grader.check(&quot;q2&quot;)\n&quot; store_history=True silent=False shell_futures=True cell_id=None&gt; result=None&gt;\">result</span>.error_in_exec = <span class=\"variable\" data-tooltip=\"NameError(&quot;name &#x27;grader&#x27; is not defined&quot;)\">value</span></span>\n<span class='line highlight'>&rightarrow; <span class='lineno'>3526</span>              <span class=\"variable\" data-tooltip=\"&lt;ipykernel.zmqshell.ZMQInteractiveShell object at 0x000001D90C761160&gt;\">self</span>.CustomTB(<span class=\"variable\" data-tooltip=\"&lt;class &#x27;NameError&#x27;&gt;\">etype</span>, <span class=\"variable\" data-tooltip=\"NameError(&quot;name &#x27;grader&#x27; is not defined&quot;)\">value</span>, <span class=\"variable\" data-tooltip=\"&lt;traceback object at 0x000001D95178E540&gt;\">tb</span>)</span>\n<span class='line'>  <span class='lineno'>3527</span>          except:</span>\n<span class='line'>  <span class='lineno'>3528</span>              if <span class=\"variable\" data-tooltip=\"&lt;ExecutionResult object at 1d94d86f820, execution_count=21 error_before_exec=None error_in_exec=name &#x27;grader&#x27; is not defined info=&lt;ExecutionInfo object at 1d90c79c2e0, raw_cell=&quot;grader.check(&quot;q2&quot;)\n&quot; store_history=True silent=False shell_futures=True cell_id=None&gt; result=None&gt;\">result</span> is not None:</span>\n</pre>\n</details>\n<pre class='meta'><span style='color:#00A250'>C:\\Users\\Tokinoshi\\AppData\\Local\\Temp\\ipykernel_10716\\1758714981.py</span></pre>\n<pre class='code-block'>\n<span class='line highlight'>&rightarrow; <span class='lineno'>1</span>  grader.check(\"q2\")</span>\n</pre>\n<pre class='error-summary'><span style='color:#E75C58'>NameError</span>: name 'grader' is not defined</pre>\n</div>"
     },
     "metadata": {},
     "output_type": "display_data"
    }
   ]
  },
  {
   "cell_type": "markdown",
   "source": [
    "<br/><br/>\n",
    "<hr style=\"border: 1px solid #fdb515;\" />\n",
    "\n",
    "# Part 3: Basic EDA\n",
    "\n",
    "We need to identify some features that allow us to distinguish spam emails from ham emails. One idea is to compare the distribution of a single feature in spam emails to the distribution of the same feature in ham emails. If the feature is itself a binary indicator, such as whether a certain word occurs in the text, this amounts to comparing the proportion of spam emails with the word to the proportion of ham emails with the word."
   ],
   "metadata": {
    "nbgrader": {
     "grade": false,
     "grade_id": "eda",
     "locked": true,
     "schema_version": 2,
     "solution": false
    }
   }
  },
  {
   "cell_type": "markdown",
   "source": [
    "The following plot (which was created using `sns.barplot`) compares the proportion of emails in each class containing a particular set of words. \n",
    "\n",
    "![training conditional proportions](images/training_conditional_proportions.png)\n",
    "\n",
    "You can use DataFrame's `.melt` ([documentation](https://pandas.pydata.org/pandas-docs/version/1.4/reference/api/pandas.melt.html)) method to \"unpivot\" a DataFrame. See the following code cell for an example."
   ],
   "metadata": {
    "nbgrader": {
     "grade": false,
     "grade_id": "q3a",
     "locked": true,
     "schema_version": 2,
     "solution": false
    }
   }
  },
  {
   "cell_type": "code",
   "source": [
    "from IPython.display import display, Markdown\n",
    "df = pd.DataFrame({\n",
    "    'word_1': [1, 0, 1, 0],\n",
    "    'word_2': [0, 1, 0, 1],\n",
    "    'type': ['spam', 'ham', 'ham', 'ham']\n",
    "})\n",
    "display(Markdown(\"> Our Original DataFrame has a `type` column and some columns corresponding to words. You can think of each row as a sentence, and the value of 1 or 0 indicates the number of occurences of the word in this sentence.\"))\n",
    "display(df);\n",
    "display(Markdown(\"> `melt` will turn columns into entries in a variable column. Notice how `word_1` and `word_2` become entries in `variable`; their values are stored in the value column.\"))\n",
    "display(df.melt(\"type\"))"
   ],
   "metadata": {
    "trusted": true,
    "ExecuteTime": {
     "end_time": "2023-06-08T13:17:48.660879600Z",
     "start_time": "2023-06-08T13:17:48.595021700Z"
    }
   },
   "execution_count": 22,
   "outputs": [
    {
     "data": {
      "text/plain": "<IPython.core.display.Markdown object>",
      "text/markdown": "> Our Original DataFrame has a `type` column and some columns corresponding to words. You can think of each row as a sentence, and the value of 1 or 0 indicates the number of occurences of the word in this sentence."
     },
     "metadata": {},
     "output_type": "display_data"
    },
    {
     "data": {
      "text/plain": "   word_1  word_2  type\n0       1       0  spam\n1       0       1   ham\n2       1       0   ham\n3       0       1   ham",
      "text/html": "<div>\n<style scoped>\n    .dataframe tbody tr th:only-of-type {\n        vertical-align: middle;\n    }\n\n    .dataframe tbody tr th {\n        vertical-align: top;\n    }\n\n    .dataframe thead th {\n        text-align: right;\n    }\n</style>\n<table border=\"1\" class=\"dataframe\">\n  <thead>\n    <tr style=\"text-align: right;\">\n      <th></th>\n      <th>word_1</th>\n      <th>word_2</th>\n      <th>type</th>\n    </tr>\n  </thead>\n  <tbody>\n    <tr>\n      <th>0</th>\n      <td>1</td>\n      <td>0</td>\n      <td>spam</td>\n    </tr>\n    <tr>\n      <th>1</th>\n      <td>0</td>\n      <td>1</td>\n      <td>ham</td>\n    </tr>\n    <tr>\n      <th>2</th>\n      <td>1</td>\n      <td>0</td>\n      <td>ham</td>\n    </tr>\n    <tr>\n      <th>3</th>\n      <td>0</td>\n      <td>1</td>\n      <td>ham</td>\n    </tr>\n  </tbody>\n</table>\n</div>"
     },
     "metadata": {},
     "output_type": "display_data"
    },
    {
     "data": {
      "text/plain": "<IPython.core.display.Markdown object>",
      "text/markdown": "> `melt` will turn columns into entries in a variable column. Notice how `word_1` and `word_2` become entries in `variable`; their values are stored in the value column."
     },
     "metadata": {},
     "output_type": "display_data"
    },
    {
     "data": {
      "text/plain": "   type variable  value\n0  spam   word_1      1\n1   ham   word_1      0\n2   ham   word_1      1\n3   ham   word_1      0\n4  spam   word_2      0\n5   ham   word_2      1\n6   ham   word_2      0\n7   ham   word_2      1",
      "text/html": "<div>\n<style scoped>\n    .dataframe tbody tr th:only-of-type {\n        vertical-align: middle;\n    }\n\n    .dataframe tbody tr th {\n        vertical-align: top;\n    }\n\n    .dataframe thead th {\n        text-align: right;\n    }\n</style>\n<table border=\"1\" class=\"dataframe\">\n  <thead>\n    <tr style=\"text-align: right;\">\n      <th></th>\n      <th>type</th>\n      <th>variable</th>\n      <th>value</th>\n    </tr>\n  </thead>\n  <tbody>\n    <tr>\n      <th>0</th>\n      <td>spam</td>\n      <td>word_1</td>\n      <td>1</td>\n    </tr>\n    <tr>\n      <th>1</th>\n      <td>ham</td>\n      <td>word_1</td>\n      <td>0</td>\n    </tr>\n    <tr>\n      <th>2</th>\n      <td>ham</td>\n      <td>word_1</td>\n      <td>1</td>\n    </tr>\n    <tr>\n      <th>3</th>\n      <td>ham</td>\n      <td>word_1</td>\n      <td>0</td>\n    </tr>\n    <tr>\n      <th>4</th>\n      <td>spam</td>\n      <td>word_2</td>\n      <td>0</td>\n    </tr>\n    <tr>\n      <th>5</th>\n      <td>ham</td>\n      <td>word_2</td>\n      <td>1</td>\n    </tr>\n    <tr>\n      <th>6</th>\n      <td>ham</td>\n      <td>word_2</td>\n      <td>0</td>\n    </tr>\n    <tr>\n      <th>7</th>\n      <td>ham</td>\n      <td>word_2</td>\n      <td>1</td>\n    </tr>\n  </tbody>\n</table>\n</div>"
     },
     "metadata": {},
     "output_type": "display_data"
    }
   ]
  },
  {
   "cell_type": "markdown",
   "source": [
    "<br><br>\n",
    "\n",
    "---\n",
    "\n",
    "## Question 3\n",
    "\n",
    "Create the bar chart above by comparing the proportion of spam and ham emails containing certain words. Choose a set of words that are different from the ones above, but also have different proportions for the two classes. Make sure to only consider emails from `train`.\n",
    "\n",
    "**Hint:** One way you can do this is with `sns.barplot`. Take a look at the ([documentation](https://seaborn.pydata.org/generated/seaborn.barplot.html)) and determine what the inputs should be. A possible data input is given below:\n",
    "<table border=\"1\" class=\"dataframe\">  <thead>    <tr style=\"text-align: right;\">      <th></th>      <th>type</th>      <th>variable</th>      <th>value</th>    </tr>  </thead>  <tbody>    \n",
    "<tr>      <th>0</th>      <td>Ham</td>      <td>word_1</td>      <td>0.021269</td>    </tr>    \n",
    "<tr>      <th>1</th>      <td>Ham</td>      <td>word_2</td>      <td>0.101519</td>    </tr>    \n",
    "<tr>      <th>2</th>      <td>Spam</td>      <td>word_3</td>      <td>0.059160</td>    </tr>    \n",
    "<tr>      <th>3</th>      <td>Spam</td>      <td>word_2</td>      <td>0.017694</td>    </tr>    \n",
    "<tr>      <th>4</th>      <td>Ham</td>      <td>word_1</td>      <td>0.013226</td>    </tr>     \n",
    "<tr>      <th>...</th>      <td>...</td>      <td>...</td>      <td>...</td>    </tr>    \n",
    "</tbody></table>"
   ],
   "metadata": {}
  },
  {
   "cell_type": "markdown",
   "source": [
    "<!-- BEGIN QUESTION -->\n",
    "\n",
    "Create your bar chart with the following cell:"
   ],
   "metadata": {}
  },
  {
   "cell_type": "code",
   "source": [
    "train = train.reset_index(drop=True) # We must do this in order to preserve the ordering of emails to labels for words_in_texts\n",
    "\n",
    "words = [\"body\",\"business\",\"html\",\"money\",\"offer\",\"please\"]\n",
    "train2 = pd.concat(\n",
    "                [pd.DataFrame( words_in_texts(words,train[\"email\"]), columns=words),train[\"spam\"]],\n",
    "                axis=1,\n",
    "                ignore_index=False\n",
    "                )\n",
    "train2[\"type\"] = train[\"spam\"].replace([0,1],[\"ham\",\"spam\"])\n",
    "words.append(\"type\")\n",
    "\n",
    "train2 = train2[words]\n",
    "display(train2)\n",
    "\n",
    "train2 = train2.melt(\"type\")\n",
    "display(train2)\n"
   ],
   "metadata": {
    "nbgrader": {
     "grade": true,
     "grade_id": "q3a-answer",
     "locked": false,
     "points": 2,
     "schema_version": 2,
     "solution": true
    },
    "tags": [],
    "trusted": true,
    "ExecuteTime": {
     "end_time": "2023-06-08T13:17:50.381226600Z",
     "start_time": "2023-06-08T13:17:50.234612500Z"
    }
   },
   "execution_count": 23,
   "outputs": [
    {
     "data": {
      "text/plain": "      body  business  html  money  offer  please  type\n0        0         0     0      0      0       0   ham\n1        1         0     1      0      0       0   ham\n2        0         0     0      0      0       1   ham\n3        0         0     1      0      0       1   ham\n4        1         1     1      0      1       0   ham\n...    ...       ...   ...    ...    ...     ...   ...\n7508     0         0     0      0      0       0   ham\n7509     0         1     0      1      1       1  spam\n7510     1         0     0      0      1       0   ham\n7511     0         0     0      0      0       0   ham\n7512     0         0     0      0      0       0   ham\n\n[7513 rows x 7 columns]",
      "text/html": "<div>\n<style scoped>\n    .dataframe tbody tr th:only-of-type {\n        vertical-align: middle;\n    }\n\n    .dataframe tbody tr th {\n        vertical-align: top;\n    }\n\n    .dataframe thead th {\n        text-align: right;\n    }\n</style>\n<table border=\"1\" class=\"dataframe\">\n  <thead>\n    <tr style=\"text-align: right;\">\n      <th></th>\n      <th>body</th>\n      <th>business</th>\n      <th>html</th>\n      <th>money</th>\n      <th>offer</th>\n      <th>please</th>\n      <th>type</th>\n    </tr>\n  </thead>\n  <tbody>\n    <tr>\n      <th>0</th>\n      <td>0</td>\n      <td>0</td>\n      <td>0</td>\n      <td>0</td>\n      <td>0</td>\n      <td>0</td>\n      <td>ham</td>\n    </tr>\n    <tr>\n      <th>1</th>\n      <td>1</td>\n      <td>0</td>\n      <td>1</td>\n      <td>0</td>\n      <td>0</td>\n      <td>0</td>\n      <td>ham</td>\n    </tr>\n    <tr>\n      <th>2</th>\n      <td>0</td>\n      <td>0</td>\n      <td>0</td>\n      <td>0</td>\n      <td>0</td>\n      <td>1</td>\n      <td>ham</td>\n    </tr>\n    <tr>\n      <th>3</th>\n      <td>0</td>\n      <td>0</td>\n      <td>1</td>\n      <td>0</td>\n      <td>0</td>\n      <td>1</td>\n      <td>ham</td>\n    </tr>\n    <tr>\n      <th>4</th>\n      <td>1</td>\n      <td>1</td>\n      <td>1</td>\n      <td>0</td>\n      <td>1</td>\n      <td>0</td>\n      <td>ham</td>\n    </tr>\n    <tr>\n      <th>...</th>\n      <td>...</td>\n      <td>...</td>\n      <td>...</td>\n      <td>...</td>\n      <td>...</td>\n      <td>...</td>\n      <td>...</td>\n    </tr>\n    <tr>\n      <th>7508</th>\n      <td>0</td>\n      <td>0</td>\n      <td>0</td>\n      <td>0</td>\n      <td>0</td>\n      <td>0</td>\n      <td>ham</td>\n    </tr>\n    <tr>\n      <th>7509</th>\n      <td>0</td>\n      <td>1</td>\n      <td>0</td>\n      <td>1</td>\n      <td>1</td>\n      <td>1</td>\n      <td>spam</td>\n    </tr>\n    <tr>\n      <th>7510</th>\n      <td>1</td>\n      <td>0</td>\n      <td>0</td>\n      <td>0</td>\n      <td>1</td>\n      <td>0</td>\n      <td>ham</td>\n    </tr>\n    <tr>\n      <th>7511</th>\n      <td>0</td>\n      <td>0</td>\n      <td>0</td>\n      <td>0</td>\n      <td>0</td>\n      <td>0</td>\n      <td>ham</td>\n    </tr>\n    <tr>\n      <th>7512</th>\n      <td>0</td>\n      <td>0</td>\n      <td>0</td>\n      <td>0</td>\n      <td>0</td>\n      <td>0</td>\n      <td>ham</td>\n    </tr>\n  </tbody>\n</table>\n<p>7513 rows × 7 columns</p>\n</div>"
     },
     "metadata": {},
     "output_type": "display_data"
    },
    {
     "data": {
      "text/plain": "       type variable  value\n0       ham     body      0\n1       ham     body      1\n2       ham     body      0\n3       ham     body      0\n4       ham     body      1\n...     ...      ...    ...\n45073   ham   please      0\n45074  spam   please      1\n45075   ham   please      0\n45076   ham   please      0\n45077   ham   please      0\n\n[45078 rows x 3 columns]",
      "text/html": "<div>\n<style scoped>\n    .dataframe tbody tr th:only-of-type {\n        vertical-align: middle;\n    }\n\n    .dataframe tbody tr th {\n        vertical-align: top;\n    }\n\n    .dataframe thead th {\n        text-align: right;\n    }\n</style>\n<table border=\"1\" class=\"dataframe\">\n  <thead>\n    <tr style=\"text-align: right;\">\n      <th></th>\n      <th>type</th>\n      <th>variable</th>\n      <th>value</th>\n    </tr>\n  </thead>\n  <tbody>\n    <tr>\n      <th>0</th>\n      <td>ham</td>\n      <td>body</td>\n      <td>0</td>\n    </tr>\n    <tr>\n      <th>1</th>\n      <td>ham</td>\n      <td>body</td>\n      <td>1</td>\n    </tr>\n    <tr>\n      <th>2</th>\n      <td>ham</td>\n      <td>body</td>\n      <td>0</td>\n    </tr>\n    <tr>\n      <th>3</th>\n      <td>ham</td>\n      <td>body</td>\n      <td>0</td>\n    </tr>\n    <tr>\n      <th>4</th>\n      <td>ham</td>\n      <td>body</td>\n      <td>1</td>\n    </tr>\n    <tr>\n      <th>...</th>\n      <td>...</td>\n      <td>...</td>\n      <td>...</td>\n    </tr>\n    <tr>\n      <th>45073</th>\n      <td>ham</td>\n      <td>please</td>\n      <td>0</td>\n    </tr>\n    <tr>\n      <th>45074</th>\n      <td>spam</td>\n      <td>please</td>\n      <td>1</td>\n    </tr>\n    <tr>\n      <th>45075</th>\n      <td>ham</td>\n      <td>please</td>\n      <td>0</td>\n    </tr>\n    <tr>\n      <th>45076</th>\n      <td>ham</td>\n      <td>please</td>\n      <td>0</td>\n    </tr>\n    <tr>\n      <th>45077</th>\n      <td>ham</td>\n      <td>please</td>\n      <td>0</td>\n    </tr>\n  </tbody>\n</table>\n<p>45078 rows × 3 columns</p>\n</div>"
     },
     "metadata": {},
     "output_type": "display_data"
    }
   ]
  },
  {
   "cell_type": "code",
   "source": [
    "plt.figure(figsize=(8,6))\n",
    "sns.barplot(x=\"variable\",y=\"value\",data=train2,hue=\"type\")\n",
    "\n",
    "plt.tight_layout()\n",
    "plt.show()"
   ],
   "metadata": {
    "trusted": true,
    "ExecuteTime": {
     "end_time": "2023-06-08T13:20:27.423724200Z",
     "start_time": "2023-06-08T13:20:26.546351800Z"
    }
   },
   "execution_count": 28,
   "outputs": [
    {
     "data": {
      "text/plain": "<Figure size 800x600 with 1 Axes>",
      "image/png": "[encoded data removed]"
     },
     "metadata": {},
     "output_type": "display_data"
    }
   ]
  },
  {
   "cell_type": "markdown",
   "source": [
    "<!-- END QUESTION -->\n",
    "\n",
    "When the feature is binary, it makes sense to compare its proportions across classes (as in the previous question). Otherwise, if the feature can take on numeric values, we can compare the distributions of these values for different classes. "
   ],
   "metadata": {
    "nbgrader": {
     "grade": false,
     "grade_id": "q3b",
     "locked": true,
     "schema_version": 2,
     "solution": false
    }
   }
  },
  {
   "cell_type": "markdown",
   "source": [
    "<br/><br/>\n",
    "<hr style=\"border: 1px solid #fdb515;\" />\n",
    "\n",
    "# Part 4: Basic Classification\n",
    "\n",
    "Notice that the output of `words_in_texts(words, train['email'])` is a numeric matrix containing features for each email. This means we can use it directly to train a classifier!"
   ],
   "metadata": {
    "nbgrader": {
     "grade": false,
     "grade_id": "classification",
     "locked": true,
     "schema_version": 2,
     "solution": false
    }
   }
  },
  {
   "cell_type": "markdown",
   "source": [
    "<br><br>\n",
    "\n",
    "---\n",
    "\n",
    "## Question 4\n",
    "\n",
    "We've given you 5 words that might be useful as features to distinguish spam/ham emails. Use these words as well as the `train` DataFrame to create two NumPy arrays: `X_train` and `Y_train`.\n",
    "\n",
    "`X_train` should be a matrix of 0s and 1s created by using your `words_in_texts` function on all the emails in the training set.\n",
    "\n",
    "`Y_train` should be a vector of the correct labels for each email in the training set.\n",
    "\n",
    "*The provided tests check that the dimensions of your feature matrix ($\\mathbb{X}$) are correct, and that your features and labels are binary (i.e. consists of only 0's and 1's). It does not check that your function is correct; that was verified in a previous question.*"
   ],
   "metadata": {}
  },
  {
   "cell_type": "code",
   "source": [
    "some_words = ['drug', 'bank', 'prescription', 'memo', 'private']\n",
    "\n",
    "X_train = words_in_texts(some_words,train[\"email\"])\n",
    "Y_train = np.array(train[\"spam\"])\n",
    "\n",
    "X_train[:5], Y_train[:5]"
   ],
   "metadata": {
    "nbgrader": {
     "grade": false,
     "grade_id": "q4-answer",
     "locked": false,
     "schema_version": 2,
     "solution": true
    },
    "tags": [
     "student"
    ],
    "trusted": true,
    "ExecuteTime": {
     "end_time": "2023-06-08T13:21:19.450744Z",
     "start_time": "2023-06-08T13:21:19.292879900Z"
    }
   },
   "execution_count": 30,
   "outputs": [
    {
     "data": {
      "text/plain": "(array([[0, 0, 0, 0, 0],\n        [0, 0, 0, 0, 0],\n        [0, 0, 0, 0, 0],\n        [0, 0, 0, 0, 0],\n        [0, 0, 0, 1, 0]]),\n array([0, 0, 0, 0, 0], dtype=int64))"
     },
     "execution_count": 30,
     "metadata": {},
     "output_type": "execute_result"
    }
   ]
  },
  {
   "cell_type": "code",
   "source": [
    "grader.check(\"q4\")"
   ],
   "metadata": {
    "deletable": false,
    "editable": false,
    "trusted": true,
    "ExecuteTime": {
     "end_time": "2023-06-08T13:21:24.169929200Z",
     "start_time": "2023-06-08T13:21:24.098167Z"
    }
   },
   "execution_count": 31,
   "outputs": [
    {
     "data": {
      "text/plain": "<IPython.core.display.HTML object>",
      "text/html": "\n<style>\n.output_subarea { /* HACK to make tooltips at edge show */\n    overflow-x: visible\n}\n.ellipsis {\n    background-color:#eee;\n    color:#666;\n    border-radius:2px;\n    cursor:pointer;\n    padding: 0 5px;\n}\n.ellipsis:hover {\n    background-color:#e3e3e3;\n    color:#000;\n}\n.output_area pre.code-block, .jp-OutputArea pre.code-block {\n    padding:0.5em 0 0.5em 1em;\n    margin:0 0 0.25em 0;\n    border-radius:0.35em;\n    overflow:visible;\n    color:#999;\n    background-color:#f6f6f6;\n}\n.variable {\n    position:relative;\n    cursor:pointer;\n    border-bottom:1px solid #666;\n}\n.variable:before {\n  content: attr(data-tooltip); /* here's the magic */\n  position:absolute;\n  \n  /* horizontally center */\n  left:50%;\n  transform: translateX(-50%);\n  \n  /* move to top */\n  bottom: 100%;\n  margin-bottom: 5px; /* and add a small bottom margin */\n  \n  /* basic styles */\n  padding: 7px 10px;\n  border-radius:2px;\n  background:#000;\n  color: #fff;\n  text-align:center;\n  \n  width: max-content; \n  max-width: 200px;\n\n  display:none; /* hide by default */\n}\n.variable:hover:before {\n  display:block;\n}\n.variable:after {\n  content: \"\";\n  position:absolute;\n  \n  /* position tooltip correctly */\n  transform: translateX(-50%);\n  left:50%;\n \n  /* move to bottom */\n  bottom:100%;\n  margin-bottom:-10px;\n \n  /* the arrow */\n  border:10px solid #000;\n  border-color: black transparent transparent transparent;\n  \n  display:none;\n}\n.variable:hover {\n    color:#208FFB;\n    border-bottom:1px solid #208FFB;\n}\n.variable:hover:before, .variable:hover:after {\n  display:block;\n}\n.line {\n    padding:0;\n}\n.output_area .line.highlight, .jp-OutputArea-output .line.highlight {\n    color:#000;\n}\n.output_area pre.meta, .jp-OutputArea-output pre.meta {\n    padding:5px;\n    border-radius:2px;\n    margin:5px 0;\n}\n.output_area pre.meta:first-child, .jp-OutputArea-output pre.meta:first-child {\n    padding-top:0;\n    margin-top:0;\n}\n.lineno {\n    border-right:1px solid #999;\n    padding-right:5px;\n    color:#999;\n}\n.highlight .lineno {\n    color:#000;\n    border-right:1px solid #000;\n}\n.error-container {\n    padding:0.5em 1em;\n    border-left:3px solid #eee;\n}\n.error-container summary {\n    list-style: none;\n    margin-top:0.5em;\n}\n.output_area .error-summary, .jp-OutputArea-output .error-summary {\n    margin-top:1em;\n}\n</style>\n<div class='error-container'>\n<details><summary><span class=\"ellipsis\">&middot;&middot;&middot;</span></summary>\n<pre class='meta'><b><span style='color:#60C6C8'>run_code</span></b> in <span style='color:#00A250'>e:\\software\\python38\\lib\\site-packages\\IPython\\core\\interactiveshell.py</span></pre>\n<pre class='code-block'>\n<span class='line'>  <span class='lineno'>3524</span>              if <span class=\"variable\" data-tooltip=\"&lt;ExecutionResult object at 1d951cc6370, execution_count=31 error_before_exec=None error_in_exec=name &#x27;grader&#x27; is not defined info=&lt;ExecutionInfo object at 1d951cc65e0, raw_cell=&quot;grader.check(&quot;q4&quot;)\n&quot; store_history=True silent=False shell_futures=True cell_id=None&gt; result=None&gt;\">result</span> is not None:</span>\n<span class='line'>  <span class='lineno'>3525</span>                  <span class=\"variable\" data-tooltip=\"&lt;ExecutionResult object at 1d951cc6370, execution_count=31 error_before_exec=None error_in_exec=name &#x27;grader&#x27; is not defined info=&lt;ExecutionInfo object at 1d951cc65e0, raw_cell=&quot;grader.check(&quot;q4&quot;)\n&quot; store_history=True silent=False shell_futures=True cell_id=None&gt; result=None&gt;\">result</span>.error_in_exec = <span class=\"variable\" data-tooltip=\"NameError(&quot;name &#x27;grader&#x27; is not defined&quot;)\">value</span></span>\n<span class='line highlight'>&rightarrow; <span class='lineno'>3526</span>              <span class=\"variable\" data-tooltip=\"&lt;ipykernel.zmqshell.ZMQInteractiveShell object at 0x000001D90C761160&gt;\">self</span>.CustomTB(<span class=\"variable\" data-tooltip=\"&lt;class &#x27;NameError&#x27;&gt;\">etype</span>, <span class=\"variable\" data-tooltip=\"NameError(&quot;name &#x27;grader&#x27; is not defined&quot;)\">value</span>, <span class=\"variable\" data-tooltip=\"&lt;traceback object at 0x000001D951A49840&gt;\">tb</span>)</span>\n<span class='line'>  <span class='lineno'>3527</span>          except:</span>\n<span class='line'>  <span class='lineno'>3528</span>              if <span class=\"variable\" data-tooltip=\"&lt;ExecutionResult object at 1d951cc6370, execution_count=31 error_before_exec=None error_in_exec=name &#x27;grader&#x27; is not defined info=&lt;ExecutionInfo object at 1d951cc65e0, raw_cell=&quot;grader.check(&quot;q4&quot;)\n&quot; store_history=True silent=False shell_futures=True cell_id=None&gt; result=None&gt;\">result</span> is not None:</span>\n</pre>\n</details>\n<pre class='meta'><span style='color:#00A250'>C:\\Users\\Tokinoshi\\AppData\\Local\\Temp\\ipykernel_10716\\3570883569.py</span></pre>\n<pre class='code-block'>\n<span class='line highlight'>&rightarrow; <span class='lineno'>1</span>  grader.check(\"q4\")</span>\n</pre>\n<pre class='error-summary'><span style='color:#E75C58'>NameError</span>: name 'grader' is not defined</pre>\n</div>"
     },
     "metadata": {},
     "output_type": "display_data"
    }
   ]
  },
  {
   "cell_type": "markdown",
   "source": [
    "<br><br>\n",
    "\n",
    "---\n",
    "## Question 5\n",
    "\n",
    "Now that we have matrices, we can build a model with `sklearn`! Using the [`LogisticRegression`](http://scikit-learn.org/stable/modules/generated/sklearn.linear_model.LogisticRegression.html) classifier, train a logistic regression model using `X_train` and `Y_train`. Then, output the model's training accuracy below. You should get an accuracy of around $0.75$.\n",
    "\n",
    "*The provided test checks that you initialized your logistic regression model correctly.*\n"
   ],
   "metadata": {}
  },
  {
   "cell_type": "code",
   "source": [
    "from sklearn.linear_model import LogisticRegression\n",
    "\n",
    "model = LogisticRegression(penalty=\"l1\", solver=\"liblinear\", C=0.5, max_iter=1000)\n",
    "model = model.fit(X_train,Y_train)\n",
    "\n",
    "training_accuracy = model.score(X_train,Y_train)\n",
    "print(\"Training Accuracy: \", training_accuracy)"
   ],
   "metadata": {
    "nbgrader": {
     "grade": false,
     "grade_id": "q5-answer",
     "locked": false,
     "schema_version": 2,
     "solution": true
    },
    "tags": [
     "student"
    ],
    "trusted": true,
    "ExecuteTime": {
     "end_time": "2023-06-08T13:22:38.944319400Z",
     "start_time": "2023-06-08T13:22:38.883191800Z"
    }
   },
   "execution_count": 33,
   "outputs": [
    {
     "name": "stdout",
     "output_type": "stream",
     "text": [
      "Training Accuracy:  0.7576201251164648\n"
     ]
    }
   ]
  },
  {
   "cell_type": "code",
   "source": [
    "grader.check(\"q5\")"
   ],
   "metadata": {
    "deletable": false,
    "editable": false,
    "ExecuteTime": {
     "end_time": "2023-06-08T13:22:41.313030700Z",
     "start_time": "2023-06-08T13:22:41.236298100Z"
    }
   },
   "execution_count": 34,
   "outputs": [
    {
     "data": {
      "text/plain": "<IPython.core.display.HTML object>",
      "text/html": "\n<style>\n.output_subarea { /* HACK to make tooltips at edge show */\n    overflow-x: visible\n}\n.ellipsis {\n    background-color:#eee;\n    color:#666;\n    border-radius:2px;\n    cursor:pointer;\n    padding: 0 5px;\n}\n.ellipsis:hover {\n    background-color:#e3e3e3;\n    color:#000;\n}\n.output_area pre.code-block, .jp-OutputArea pre.code-block {\n    padding:0.5em 0 0.5em 1em;\n    margin:0 0 0.25em 0;\n    border-radius:0.35em;\n    overflow:visible;\n    color:#999;\n    background-color:#f6f6f6;\n}\n.variable {\n    position:relative;\n    cursor:pointer;\n    border-bottom:1px solid #666;\n}\n.variable:before {\n  content: attr(data-tooltip); /* here's the magic */\n  position:absolute;\n  \n  /* horizontally center */\n  left:50%;\n  transform: translateX(-50%);\n  \n  /* move to top */\n  bottom: 100%;\n  margin-bottom: 5px; /* and add a small bottom margin */\n  \n  /* basic styles */\n  padding: 7px 10px;\n  border-radius:2px;\n  background:#000;\n  color: #fff;\n  text-align:center;\n  \n  width: max-content; \n  max-width: 200px;\n\n  display:none; /* hide by default */\n}\n.variable:hover:before {\n  display:block;\n}\n.variable:after {\n  content: \"\";\n  position:absolute;\n  \n  /* position tooltip correctly */\n  transform: translateX(-50%);\n  left:50%;\n \n  /* move to bottom */\n  bottom:100%;\n  margin-bottom:-10px;\n \n  /* the arrow */\n  border:10px solid #000;\n  border-color: black transparent transparent transparent;\n  \n  display:none;\n}\n.variable:hover {\n    color:#208FFB;\n    border-bottom:1px solid #208FFB;\n}\n.variable:hover:before, .variable:hover:after {\n  display:block;\n}\n.line {\n    padding:0;\n}\n.output_area .line.highlight, .jp-OutputArea-output .line.highlight {\n    color:#000;\n}\n.output_area pre.meta, .jp-OutputArea-output pre.meta {\n    padding:5px;\n    border-radius:2px;\n    margin:5px 0;\n}\n.output_area pre.meta:first-child, .jp-OutputArea-output pre.meta:first-child {\n    padding-top:0;\n    margin-top:0;\n}\n.lineno {\n    border-right:1px solid #999;\n    padding-right:5px;\n    color:#999;\n}\n.highlight .lineno {\n    color:#000;\n    border-right:1px solid #000;\n}\n.error-container {\n    padding:0.5em 1em;\n    border-left:3px solid #eee;\n}\n.error-container summary {\n    list-style: none;\n    margin-top:0.5em;\n}\n.output_area .error-summary, .jp-OutputArea-output .error-summary {\n    margin-top:1em;\n}\n</style>\n<div class='error-container'>\n<details><summary><span class=\"ellipsis\">&middot;&middot;&middot;</span></summary>\n<pre class='meta'><b><span style='color:#60C6C8'>run_code</span></b> in <span style='color:#00A250'>e:\\software\\python38\\lib\\site-packages\\IPython\\core\\interactiveshell.py</span></pre>\n<pre class='code-block'>\n<span class='line'>  <span class='lineno'>3524</span>              if <span class=\"variable\" data-tooltip=\"&lt;ExecutionResult object at 1d92bd7b160, execution_count=34 error_before_exec=None error_in_exec=name &#x27;grader&#x27; is not defined info=&lt;ExecutionInfo object at 1d951cc6100, raw_cell=&quot;grader.check(&quot;q5&quot;)\n&quot; store_history=True silent=False shell_futures=True cell_id=None&gt; result=None&gt;\">result</span> is not None:</span>\n<span class='line'>  <span class='lineno'>3525</span>                  <span class=\"variable\" data-tooltip=\"&lt;ExecutionResult object at 1d92bd7b160, execution_count=34 error_before_exec=None error_in_exec=name &#x27;grader&#x27; is not defined info=&lt;ExecutionInfo object at 1d951cc6100, raw_cell=&quot;grader.check(&quot;q5&quot;)\n&quot; store_history=True silent=False shell_futures=True cell_id=None&gt; result=None&gt;\">result</span>.error_in_exec = <span class=\"variable\" data-tooltip=\"NameError(&quot;name &#x27;grader&#x27; is not defined&quot;)\">value</span></span>\n<span class='line highlight'>&rightarrow; <span class='lineno'>3526</span>              <span class=\"variable\" data-tooltip=\"&lt;ipykernel.zmqshell.ZMQInteractiveShell object at 0x000001D90C761160&gt;\">self</span>.CustomTB(<span class=\"variable\" data-tooltip=\"&lt;class &#x27;NameError&#x27;&gt;\">etype</span>, <span class=\"variable\" data-tooltip=\"NameError(&quot;name &#x27;grader&#x27; is not defined&quot;)\">value</span>, <span class=\"variable\" data-tooltip=\"&lt;traceback object at 0x000001D92BD81BC0&gt;\">tb</span>)</span>\n<span class='line'>  <span class='lineno'>3527</span>          except:</span>\n<span class='line'>  <span class='lineno'>3528</span>              if <span class=\"variable\" data-tooltip=\"&lt;ExecutionResult object at 1d92bd7b160, execution_count=34 error_before_exec=None error_in_exec=name &#x27;grader&#x27; is not defined info=&lt;ExecutionInfo object at 1d951cc6100, raw_cell=&quot;grader.check(&quot;q5&quot;)\n&quot; store_history=True silent=False shell_futures=True cell_id=None&gt; result=None&gt;\">result</span> is not None:</span>\n</pre>\n</details>\n<pre class='meta'><span style='color:#00A250'>C:\\Users\\Tokinoshi\\AppData\\Local\\Temp\\ipykernel_10716\\1896570189.py</span></pre>\n<pre class='code-block'>\n<span class='line highlight'>&rightarrow; <span class='lineno'>1</span>  grader.check(\"q5\")</span>\n</pre>\n<pre class='error-summary'><span style='color:#E75C58'>NameError</span>: name 'grader' is not defined</pre>\n</div>"
     },
     "metadata": {},
     "output_type": "display_data"
    }
   ]
  },
  {
   "cell_type": "markdown",
   "source": [
    "<br/><br/>\n",
    "<hr style=\"border: 1px solid #fdb515;\" />\n",
    "\n",
    "# Part 5: Evaluating Classifiers"
   ],
   "metadata": {}
  },
  {
   "cell_type": "markdown",
   "source": [
    "That doesn't seem too shabby! But the classifier you made above isn't as good as the accuracy would make you believe. First, we are evaluating accuracy on the training set, which may provide a misleading accuracy measure. Accuracy on the training set doesn't always translate to accuracy in the real world (on the test set). In future parts of this analysis, we will hold out some of our data for model validation and comparison.\n",
    "\n",
    "Presumably, our classifier will be used for **filtering**, i.e. preventing messages labeled `spam` from reaching someone's inbox. There are two kinds of errors we can make:\n",
    "- **False positive (FP)**: a ham email gets flagged as spam and filtered out of the inbox.\n",
    "- **False negative (FN)**: a spam email gets mislabeled as ham and ends up in the inbox.\n",
    "\n",
    "To be clear, we label spam emails as 1 and ham emails as 0. These definitions depend both on the true labels and the predicted labels. False positives and false negatives may be of differing importance, leading us to consider more ways of evaluating a classifier, in addition to overall accuracy:\n",
    "\n",
    "**Precision**: Measures the proportion $\\frac{\\text{TP}}{\\text{TP} + \\text{FP}}$ of emails flagged as spam that are actually spam.\n",
    "\n",
    "**Recall**: Measures the proportion $\\frac{\\text{TP}}{\\text{TP} + \\text{FN}}$ of spam emails that were correctly flagged as spam. \n",
    "\n",
    "**False positive rate**: Measures the proportion $\\frac{\\text{FP}}{\\text{FP} + \\text{TN}}$ of ham emails that were incorrectly flagged as spam. \n",
    "\n",
    "The below graphic (modified slightly from [Wikipedia](https://en.wikipedia.org/wiki/Precision_and_recall)) may help you understand precision and recall visually:<br />\n",
    "<center>\n",
    "<img alt=\"precision_recall\" src=\"images/precision_recall.png\" width=\"600px\" />\n",
    "</center>\n",
    "\n",
    "Note that a True Positive (TP) is a spam email that is classified as spam, and a True Negative (TN) is a ham email that is classified as ham."
   ],
   "metadata": {}
  },
  {
   "cell_type": "markdown",
   "source": [
    "<br><br>\n",
    "\n",
    "---\n",
    "\n",
    "## Question 6a\n",
    "\n",
    "Suppose we have a classifier `zero_predictor` that always predicts 0 (never predicts positive). How many false positives and false negatives would this classifier have if it were evaluated on the training set and its results were compared to `Y_train`? Fill in the variables below (feel free to hard code your answers for this part):\n",
    "\n",
    "*Tests in Question 6 only check that you have assigned appropriate types of values to each response variable, but do not check that your answers are correct.*"
   ],
   "metadata": {}
  },
  {
   "cell_type": "code",
   "source": [
    "zero_predictor_fp = 0\n",
    "zero_predictor_fn = 1\n",
    "zero_predictor_fp, zero_predictor_fn"
   ],
   "metadata": {
    "nbgrader": {
     "grade": false,
     "grade_id": "q6a-answer",
     "locked": false,
     "schema_version": 2,
     "solution": true
    },
    "tags": [],
    "ExecuteTime": {
     "end_time": "2023-06-08T13:27:27.895812400Z",
     "start_time": "2023-06-08T13:27:27.874487100Z"
    }
   },
   "execution_count": 35,
   "outputs": [
    {
     "data": {
      "text/plain": "(0, 1)"
     },
     "execution_count": 35,
     "metadata": {},
     "output_type": "execute_result"
    }
   ]
  },
  {
   "cell_type": "code",
   "source": [
    "grader.check(\"q6a\")"
   ],
   "metadata": {
    "deletable": false,
    "editable": false
   },
   "execution_count": null,
   "outputs": []
  },
  {
   "cell_type": "markdown",
   "source": [
    "<br><br>\n",
    "\n",
    "---\n",
    "\n",
    "## Question 6b\n",
    "\n",
    "What is the accuracy and recall of `zero_predictor` (classifies every email as ham) on the training set? Do **NOT** use any `sklearn` functions."
   ],
   "metadata": {}
  },
  {
   "cell_type": "code",
   "source": [
    "zero_predictor_acc = 1 / (1+0)\n",
    "zero_predictor_recall = 1 / (1+1)\n",
    "zero_predictor_acc, zero_predictor_recall"
   ],
   "metadata": {
    "tags": [],
    "ExecuteTime": {
     "end_time": "2023-06-08T13:29:53.351499500Z",
     "start_time": "2023-06-08T13:29:53.328587700Z"
    }
   },
   "execution_count": 36,
   "outputs": [
    {
     "data": {
      "text/plain": "(1.0, 0.5)"
     },
     "execution_count": 36,
     "metadata": {},
     "output_type": "execute_result"
    }
   ]
  },
  {
   "cell_type": "code",
   "source": [
    "grader.check(\"q6b\")"
   ],
   "metadata": {
    "deletable": false,
    "editable": false,
    "ExecuteTime": {
     "end_time": "2023-06-08T13:29:56.378091500Z",
     "start_time": "2023-06-08T13:29:56.316780Z"
    }
   },
   "execution_count": 37,
   "outputs": [
    {
     "data": {
      "text/plain": "<IPython.core.display.HTML object>",
      "text/html": "\n<style>\n.output_subarea { /* HACK to make tooltips at edge show */\n    overflow-x: visible\n}\n.ellipsis {\n    background-color:#eee;\n    color:#666;\n    border-radius:2px;\n    cursor:pointer;\n    padding: 0 5px;\n}\n.ellipsis:hover {\n    background-color:#e3e3e3;\n    color:#000;\n}\n.output_area pre.code-block, .jp-OutputArea pre.code-block {\n    padding:0.5em 0 0.5em 1em;\n    margin:0 0 0.25em 0;\n    border-radius:0.35em;\n    overflow:visible;\n    color:#999;\n    background-color:#f6f6f6;\n}\n.variable {\n    position:relative;\n    cursor:pointer;\n    border-bottom:1px solid #666;\n}\n.variable:before {\n  content: attr(data-tooltip); /* here's the magic */\n  position:absolute;\n  \n  /* horizontally center */\n  left:50%;\n  transform: translateX(-50%);\n  \n  /* move to top */\n  bottom: 100%;\n  margin-bottom: 5px; /* and add a small bottom margin */\n  \n  /* basic styles */\n  padding: 7px 10px;\n  border-radius:2px;\n  background:#000;\n  color: #fff;\n  text-align:center;\n  \n  width: max-content; \n  max-width: 200px;\n\n  display:none; /* hide by default */\n}\n.variable:hover:before {\n  display:block;\n}\n.variable:after {\n  content: \"\";\n  position:absolute;\n  \n  /* position tooltip correctly */\n  transform: translateX(-50%);\n  left:50%;\n \n  /* move to bottom */\n  bottom:100%;\n  margin-bottom:-10px;\n \n  /* the arrow */\n  border:10px solid #000;\n  border-color: black transparent transparent transparent;\n  \n  display:none;\n}\n.variable:hover {\n    color:#208FFB;\n    border-bottom:1px solid #208FFB;\n}\n.variable:hover:before, .variable:hover:after {\n  display:block;\n}\n.line {\n    padding:0;\n}\n.output_area .line.highlight, .jp-OutputArea-output .line.highlight {\n    color:#000;\n}\n.output_area pre.meta, .jp-OutputArea-output pre.meta {\n    padding:5px;\n    border-radius:2px;\n    margin:5px 0;\n}\n.output_area pre.meta:first-child, .jp-OutputArea-output pre.meta:first-child {\n    padding-top:0;\n    margin-top:0;\n}\n.lineno {\n    border-right:1px solid #999;\n    padding-right:5px;\n    color:#999;\n}\n.highlight .lineno {\n    color:#000;\n    border-right:1px solid #000;\n}\n.error-container {\n    padding:0.5em 1em;\n    border-left:3px solid #eee;\n}\n.error-container summary {\n    list-style: none;\n    margin-top:0.5em;\n}\n.output_area .error-summary, .jp-OutputArea-output .error-summary {\n    margin-top:1em;\n}\n</style>\n<div class='error-container'>\n<details><summary><span class=\"ellipsis\">&middot;&middot;&middot;</span></summary>\n<pre class='meta'><b><span style='color:#60C6C8'>run_code</span></b> in <span style='color:#00A250'>e:\\software\\python38\\lib\\site-packages\\IPython\\core\\interactiveshell.py</span></pre>\n<pre class='code-block'>\n<span class='line'>  <span class='lineno'>3524</span>              if <span class=\"variable\" data-tooltip=\"&lt;ExecutionResult object at 1d92bd6aeb0, execution_count=37 error_before_exec=None error_in_exec=name &#x27;grader&#x27; is not defined info=&lt;ExecutionInfo object at 1d92bd6ae20, raw_cell=&quot;grader.check(&quot;q6b&quot;)\n&quot; store_history=True silent=False shell_futures=True cell_id=None&gt; result=None&gt;\">result</span> is not None:</span>\n<span class='line'>  <span class='lineno'>3525</span>                  <span class=\"variable\" data-tooltip=\"&lt;ExecutionResult object at 1d92bd6aeb0, execution_count=37 error_before_exec=None error_in_exec=name &#x27;grader&#x27; is not defined info=&lt;ExecutionInfo object at 1d92bd6ae20, raw_cell=&quot;grader.check(&quot;q6b&quot;)\n&quot; store_history=True silent=False shell_futures=True cell_id=None&gt; result=None&gt;\">result</span>.error_in_exec = <span class=\"variable\" data-tooltip=\"NameError(&quot;name &#x27;grader&#x27; is not defined&quot;)\">value</span></span>\n<span class='line highlight'>&rightarrow; <span class='lineno'>3526</span>              <span class=\"variable\" data-tooltip=\"&lt;ipykernel.zmqshell.ZMQInteractiveShell object at 0x000001D90C761160&gt;\">self</span>.CustomTB(<span class=\"variable\" data-tooltip=\"&lt;class &#x27;NameError&#x27;&gt;\">etype</span>, <span class=\"variable\" data-tooltip=\"NameError(&quot;name &#x27;grader&#x27; is not defined&quot;)\">value</span>, <span class=\"variable\" data-tooltip=\"&lt;traceback object at 0x000001D92BDC77C0&gt;\">tb</span>)</span>\n<span class='line'>  <span class='lineno'>3527</span>          except:</span>\n<span class='line'>  <span class='lineno'>3528</span>              if <span class=\"variable\" data-tooltip=\"&lt;ExecutionResult object at 1d92bd6aeb0, execution_count=37 error_before_exec=None error_in_exec=name &#x27;grader&#x27; is not defined info=&lt;ExecutionInfo object at 1d92bd6ae20, raw_cell=&quot;grader.check(&quot;q6b&quot;)\n&quot; store_history=True silent=False shell_futures=True cell_id=None&gt; result=None&gt;\">result</span> is not None:</span>\n</pre>\n</details>\n<pre class='meta'><span style='color:#00A250'>C:\\Users\\Tokinoshi\\AppData\\Local\\Temp\\ipykernel_10716\\2403253860.py</span></pre>\n<pre class='code-block'>\n<span class='line highlight'>&rightarrow; <span class='lineno'>1</span>  grader.check(\"q6b\")</span>\n</pre>\n<pre class='error-summary'><span style='color:#E75C58'>NameError</span>: name 'grader' is not defined</pre>\n</div>"
     },
     "metadata": {},
     "output_type": "display_data"
    }
   ]
  },
  {
   "cell_type": "markdown",
   "source": [
    "<!-- BEGIN QUESTION -->\n",
    "\n",
    "<br><br>\n",
    "\n",
    "---\n",
    "\n",
    "## Question 6c\n",
    "\n",
    "Comment on the results from 6a and 6b. For **each** of FP, FN, accuracy, and recall, briefly explain why we see the result that we do."
   ],
   "metadata": {}
  },
  {
   "cell_type": "markdown",
   "source": [
    "_Type your answer here, replacing this text._"
   ],
   "metadata": {}
  },
  {
   "cell_type": "markdown",
   "source": [
    "<!-- END QUESTION -->\n",
    "\n",
    "<br/><br/>\n",
    "\n",
    "---\n",
    "\n",
    "## Question 6d\n",
    "\n",
    "Compute the precision, recall, and false positive rate of the `LogisticRegression` classifier created and trained in Question 5. Do **NOT** use any `sklearn` functions, with the exception of the `.predict` method of your model object.\n"
   ],
   "metadata": {}
  },
  {
   "cell_type": "code",
   "source": [
    "spam_predict = np.where(model.predict(X_train)==1)\n",
    "spam_train =  np.where(Y_train==1)\n",
    "ham_predict = np.where(model.predict(X_train)==0)\n",
    "ham_train = np.where(Y_train==0)\n",
    "total = len(Y_train)\n",
    "\n",
    "\n",
    "TP = len(np.intersect1d(ham_train,ham_predict)) / len(ham_train[0])\n",
    "TN = len(np.intersect1d(spam_train,spam_predict)) / len(spam_train[0])\n",
    "FP = 1-TP\n",
    "FN = 1-TN\n",
    "\n",
    "logistic_predictor_precision = TP/(TP+FP)\n",
    "logistic_predictor_recall = TP/(TP+FN)\n",
    "logistic_predictor_fpr = FP/(FP+TN)\n",
    "\n",
    "print(f\"{TP}, {TN}, {FP}, {FN}\")\n",
    "print(f\"{logistic_predictor_precision=:.2f}, {logistic_predictor_recall=:.2f}, {logistic_predictor_fpr=:.2f}\")"
   ],
   "metadata": {
    "tags": [],
    "ExecuteTime": {
     "end_time": "2023-06-08T14:22:33.492226400Z",
     "start_time": "2023-06-08T14:22:33.462495100Z"
    }
   },
   "execution_count": 81,
   "outputs": [
    {
     "name": "stdout",
     "output_type": "stream",
     "text": [
      "0.978194816800715, 0.11418143899895725, 0.02180518319928504, 0.8858185610010427\n",
      "logistic_predictor_precision=0.98, logistic_predictor_recall=0.52, logistic_predictor_fpr=0.16\n"
     ]
    }
   ]
  },
  {
   "cell_type": "code",
   "source": [
    "grader.check(\"q6d\")"
   ],
   "metadata": {
    "deletable": false,
    "editable": false,
    "ExecuteTime": {
     "end_time": "2023-06-08T14:22:43.137579600Z",
     "start_time": "2023-06-08T14:22:43.086042800Z"
    }
   },
   "execution_count": 82,
   "outputs": [
    {
     "data": {
      "text/plain": "<IPython.core.display.HTML object>",
      "text/html": "\n<style>\n.output_subarea { /* HACK to make tooltips at edge show */\n    overflow-x: visible\n}\n.ellipsis {\n    background-color:#eee;\n    color:#666;\n    border-radius:2px;\n    cursor:pointer;\n    padding: 0 5px;\n}\n.ellipsis:hover {\n    background-color:#e3e3e3;\n    color:#000;\n}\n.output_area pre.code-block, .jp-OutputArea pre.code-block {\n    padding:0.5em 0 0.5em 1em;\n    margin:0 0 0.25em 0;\n    border-radius:0.35em;\n    overflow:visible;\n    color:#999;\n    background-color:#f6f6f6;\n}\n.variable {\n    position:relative;\n    cursor:pointer;\n    border-bottom:1px solid #666;\n}\n.variable:before {\n  content: attr(data-tooltip); /* here's the magic */\n  position:absolute;\n  \n  /* horizontally center */\n  left:50%;\n  transform: translateX(-50%);\n  \n  /* move to top */\n  bottom: 100%;\n  margin-bottom: 5px; /* and add a small bottom margin */\n  \n  /* basic styles */\n  padding: 7px 10px;\n  border-radius:2px;\n  background:#000;\n  color: #fff;\n  text-align:center;\n  \n  width: max-content; \n  max-width: 200px;\n\n  display:none; /* hide by default */\n}\n.variable:hover:before {\n  display:block;\n}\n.variable:after {\n  content: \"\";\n  position:absolute;\n  \n  /* position tooltip correctly */\n  transform: translateX(-50%);\n  left:50%;\n \n  /* move to bottom */\n  bottom:100%;\n  margin-bottom:-10px;\n \n  /* the arrow */\n  border:10px solid #000;\n  border-color: black transparent transparent transparent;\n  \n  display:none;\n}\n.variable:hover {\n    color:#208FFB;\n    border-bottom:1px solid #208FFB;\n}\n.variable:hover:before, .variable:hover:after {\n  display:block;\n}\n.line {\n    padding:0;\n}\n.output_area .line.highlight, .jp-OutputArea-output .line.highlight {\n    color:#000;\n}\n.output_area pre.meta, .jp-OutputArea-output pre.meta {\n    padding:5px;\n    border-radius:2px;\n    margin:5px 0;\n}\n.output_area pre.meta:first-child, .jp-OutputArea-output pre.meta:first-child {\n    padding-top:0;\n    margin-top:0;\n}\n.lineno {\n    border-right:1px solid #999;\n    padding-right:5px;\n    color:#999;\n}\n.highlight .lineno {\n    color:#000;\n    border-right:1px solid #000;\n}\n.error-container {\n    padding:0.5em 1em;\n    border-left:3px solid #eee;\n}\n.error-container summary {\n    list-style: none;\n    margin-top:0.5em;\n}\n.output_area .error-summary, .jp-OutputArea-output .error-summary {\n    margin-top:1em;\n}\n</style>\n<div class='error-container'>\n<details><summary><span class=\"ellipsis\">&middot;&middot;&middot;</span></summary>\n<pre class='meta'><b><span style='color:#60C6C8'>run_code</span></b> in <span style='color:#00A250'>e:\\software\\python38\\lib\\site-packages\\IPython\\core\\interactiveshell.py</span></pre>\n<pre class='code-block'>\n<span class='line'>  <span class='lineno'>3524</span>              if <span class=\"variable\" data-tooltip=\"&lt;ExecutionResult object at 1d951cca7f0, execution_count=82 error_before_exec=None error_in_exec=name &#x27;grader&#x27; is not defined info=&lt;ExecutionInfo object at 1d92bd6ad00, raw_cell=&quot;grader.check(&quot;q6d&quot;)\n&quot; store_history=True silent=False shell_futures=True cell_id=None&gt; result=None&gt;\">result</span> is not None:</span>\n<span class='line'>  <span class='lineno'>3525</span>                  <span class=\"variable\" data-tooltip=\"&lt;ExecutionResult object at 1d951cca7f0, execution_count=82 error_before_exec=None error_in_exec=name &#x27;grader&#x27; is not defined info=&lt;ExecutionInfo object at 1d92bd6ad00, raw_cell=&quot;grader.check(&quot;q6d&quot;)\n&quot; store_history=True silent=False shell_futures=True cell_id=None&gt; result=None&gt;\">result</span>.error_in_exec = <span class=\"variable\" data-tooltip=\"NameError(&quot;name &#x27;grader&#x27; is not defined&quot;)\">value</span></span>\n<span class='line highlight'>&rightarrow; <span class='lineno'>3526</span>              <span class=\"variable\" data-tooltip=\"&lt;ipykernel.zmqshell.ZMQInteractiveShell object at 0x000001D90C761160&gt;\">self</span>.CustomTB(<span class=\"variable\" data-tooltip=\"&lt;class &#x27;NameError&#x27;&gt;\">etype</span>, <span class=\"variable\" data-tooltip=\"NameError(&quot;name &#x27;grader&#x27; is not defined&quot;)\">value</span>, <span class=\"variable\" data-tooltip=\"&lt;traceback object at 0x000001D92BD899C0&gt;\">tb</span>)</span>\n<span class='line'>  <span class='lineno'>3527</span>          except:</span>\n<span class='line'>  <span class='lineno'>3528</span>              if <span class=\"variable\" data-tooltip=\"&lt;ExecutionResult object at 1d951cca7f0, execution_count=82 error_before_exec=None error_in_exec=name &#x27;grader&#x27; is not defined info=&lt;ExecutionInfo object at 1d92bd6ad00, raw_cell=&quot;grader.check(&quot;q6d&quot;)\n&quot; store_history=True silent=False shell_futures=True cell_id=None&gt; result=None&gt;\">result</span> is not None:</span>\n</pre>\n</details>\n<pre class='meta'><span style='color:#00A250'>C:\\Users\\Tokinoshi\\AppData\\Local\\Temp\\ipykernel_10716\\2803231042.py</span></pre>\n<pre class='code-block'>\n<span class='line highlight'>&rightarrow; <span class='lineno'>1</span>  grader.check(\"q6d\")</span>\n</pre>\n<pre class='error-summary'><span style='color:#E75C58'>NameError</span>: name 'grader' is not defined</pre>\n</div>"
     },
     "metadata": {},
     "output_type": "display_data"
    }
   ]
  },
  {
   "cell_type": "markdown",
   "source": [
    "<!-- BEGIN QUESTION -->\n",
    "\n",
    "<br><br>\n",
    "\n",
    "---\n",
    "\n",
    "## Question 6e\n",
    "\n",
    "Are there more false positives or false negatives when using the logistic regression classifier from Question 5? Take a look at your result in 6d!\n"
   ],
   "metadata": {}
  },
  {
   "cell_type": "markdown",
   "source": [
    "_Type your answer here, replacing this text._"
   ],
   "metadata": {}
  },
  {
   "cell_type": "markdown",
   "source": [
    "<!-- END QUESTION -->\n",
    "\n",
    "<!-- BEGIN QUESTION -->\n",
    "\n",
    "<br><br>\n",
    "\n",
    "---\n",
    "\n",
    "## Question 6f\n",
    "\n",
    "Our logistic regression classifier got 75.76% prediction accuracy (number of correct predictions / total). How does this compare with predicting 0 for every email?"
   ],
   "metadata": {}
  },
  {
   "cell_type": "markdown",
   "source": [
    "_Type your answer here, replacing this text._"
   ],
   "metadata": {}
  },
  {
   "cell_type": "markdown",
   "source": [
    "<!-- END QUESTION -->\n",
    "\n",
    "<!-- BEGIN QUESTION -->\n",
    "\n",
    "<br><br>\n",
    "\n",
    "---\n",
    "\n",
    "## Question 6g\n",
    "\n",
    "Given the word features we gave you above, name one reason this classifier is performing poorly. **Hint:** Think about how prevalent these words are in the email set."
   ],
   "metadata": {}
  },
  {
   "cell_type": "markdown",
   "source": [
    "_Type your answer here, replacing this text._"
   ],
   "metadata": {}
  },
  {
   "cell_type": "markdown",
   "source": [
    "<!-- END QUESTION -->\n",
    "\n",
    "<!-- BEGIN QUESTION -->\n",
    "\n",
    "<br><br>\n",
    "\n",
    "---\n",
    "\n",
    "## Question 6h\n",
    "\n",
    "Which of these two classifiers would you prefer for a spam filter and why? Describe your reasoning and relate it to at least one of the evaluation metrics you have computed so far.\n"
   ],
   "metadata": {}
  },
  {
   "cell_type": "markdown",
   "source": [
    "_Type your answer here, replacing this text._"
   ],
   "metadata": {}
  },
  {
   "cell_type": "markdown",
   "source": [
    "<!-- END QUESTION -->\n",
    "\n",
    "<br/><br/>\n",
    "<hr style=\"border: 5px solid #003262;\" />\n",
    "<hr style=\"border: 1px solid #fdb515;\" />\n",
    "\n",
    "## Congratulations! You have finished Project B.1!\n",
    "\n",
    "What's next? In Project B.2, you will focus on building a spam/ham email classifier with logistic regression. You will be well-prepared to build such a model: you have considered what is in this data set, what it can be used for, and engineered some features that should be useful for prediction.\n",
    "\n",
    "Below, you will see two cells. Running the first cell will automatically generate a PDF of all questions that need to be manually graded, and running the second cell will automatically generate a zip with your autograded answers. **You are responsible for both the coding portion (the zip from Project B.1) and the written portion (the PDF from Project B.1) to their respective Gradescope portals.** The coding proportion should be submitted to Project B.1 Coding as a single zip file, and the written portion should be submitted to Project B.1 Written as a single pdf file. When submitting the written portion, please ensure you select pages appropriately. \n",
    "\n",
    "If there are issues with automatically generating the PDF in the first cell, you can try downloading the notebook as a PDF by clicking on `File -> Save and Export Notebook As... -> PDF`. If that doesn't work either, you can manually take screenshots of your answers to the manually graded questions and submit those. Either way, **you are responsible for ensuring your submission follows our requirements, we will NOT be granting regrade requests for submissions that don't follow instructions.**"
   ],
   "metadata": {
    "tags": []
   }
  },
  {
   "cell_type": "code",
   "source": [
    "from otter.export import export_notebook\n",
    "from os import path\n",
    "from IPython.display import display, HTML\n",
    "export_notebook(\"projB1.ipynb\", filtering=True, pagebreaks=True)\n",
    "if(path.exists('projB1.pdf')):\n",
    "    display(HTML(\"Download your PDF <a href='projB1.pdf' download>here</a>.\"))\n",
    "else:\n",
    "    print(\"\\n Pdf generation fails, please try the other methods described above\")"
   ],
   "metadata": {},
   "execution_count": null,
   "outputs": []
  },
  {
   "cell_type": "markdown",
   "source": [
    "## Submission\n",
    "\n",
    "Make sure you have run all cells in your notebook in order before running the cell below, so that all images/graphs appear in the output. The cell below will generate a zip file for you to submit. **Please save before exporting!**"
   ],
   "metadata": {
    "deletable": false,
    "editable": false
   }
  },
  {
   "cell_type": "code",
   "source": [
    "# Save your notebook first, then run this cell to export your submission.\n",
    "grader.export(run_tests=True)"
   ],
   "metadata": {
    "deletable": false,
    "editable": false
   },
   "execution_count": null,
   "outputs": []
  },
  {
   "cell_type": "markdown",
   "source": [
    " "
   ],
   "metadata": {}
  }
 ]
}
